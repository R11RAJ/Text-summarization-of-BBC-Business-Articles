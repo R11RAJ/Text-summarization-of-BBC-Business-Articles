{
 "cells": [
  {
   "cell_type": "markdown",
   "metadata": {},
   "source": [
    "# Importing necessory libraries"
   ]
  },
  {
   "cell_type": "code",
   "execution_count": 1,
   "metadata": {},
   "outputs": [],
   "source": [
    "import numpy as np\n",
    "import os\n",
    "from textblob import TextBlob\n",
    "from sumy.parsers.plaintext import PlaintextParser\n",
    "from sumy.nlp.tokenizers import Tokenizer\n",
    "from sumy.summarizers.lex_rank import LexRankSummarizer\n",
    "from sumy.summarizers.text_rank import TextRankSummarizer\n",
    "from sumy.models.dom import Sentence\n",
    "from sumy.evaluation.rouge import rouge_1,rouge_2"
   ]
  },
  {
   "cell_type": "markdown",
   "metadata": {},
   "source": [
    "# Getting the articles and summaries directory paths "
   ]
  },
  {
   "cell_type": "code",
   "execution_count": 2,
   "metadata": {},
   "outputs": [],
   "source": [
    "article_path='BBC Business News/News Articles/business/'\n",
    "summary_path='BBC Business News/Summaries/business/'"
   ]
  },
  {
   "cell_type": "markdown",
   "metadata": {},
   "source": [
    "# Observations"
   ]
  },
  {
   "cell_type": "markdown",
   "metadata": {},
   "source": [
    "1. Two approaches were used one for Extractive and one for Abstractive summarization.\n",
    "2. Rouge 1 and Rouge 2 were used as performance metrics.\n",
    "3. Scores were calculated by comparing actual summary with retrieved summary of four different sentence counts [10,15,20,25].\n",
    "4. Best scores were obtained for sentence count of 25 in both approaches.\n",
    "5. Overall Extractive summarizer performed better statistically in all four sentence counts."
   ]
  },
  {
   "cell_type": "markdown",
   "metadata": {},
   "source": [
    "# Lex Rank Summarizer"
   ]
  },
  {
   "cell_type": "code",
   "execution_count": 3,
   "metadata": {},
   "outputs": [
    {
     "name": "stdout",
     "output_type": "stream",
     "text": [
      "For sentence count: 10\n",
      "Average Rouge 1 score: 0.82778062914676\n",
      "Average Rouge 2 score: 0.7688573473617388 \n",
      "\n",
      "\n",
      "For sentence count: 15\n",
      "Average Rouge 1 score: 0.9435007804415468\n",
      "Average Rouge 2 score: 0.9238472052171837 \n",
      "\n",
      "\n",
      "For sentence count: 20\n",
      "Average Rouge 1 score: 0.981043067434811\n",
      "Average Rouge 2 score: 0.9744264282003102 \n",
      "\n",
      "\n",
      "For sentence count: 25\n",
      "Average Rouge 1 score: 0.9927635451570361\n",
      "Average Rouge 2 score: 0.9902403055537793 \n",
      "\n",
      "\n"
     ]
    }
   ],
   "source": [
    "#iterating over different number of sentence counts\n",
    "for sc in [10,15,20,25]:\n",
    "    r1=[]\n",
    "    r2=[]\n",
    "    \n",
    "    #Iterating through the directory\n",
    "    for i in os.listdir(article_path):\n",
    "        #getting the file path\n",
    "        file = article_path+i\n",
    "        #parsing the artile file\n",
    "        parser = PlaintextParser.from_file(file, Tokenizer(\"english\"))\n",
    "        #initialising the summarizer\n",
    "        summarizer = LexRankSummarizer()\n",
    "        #summarizing the article\n",
    "        summary = summarizer(parser.document, sc) \n",
    "        \n",
    "        #acquiring the actual summary\n",
    "        f=open(summary_path+i,'r')\n",
    "        act=f.read()\n",
    "        act_sum=act.split('.')\n",
    "        final=[]\n",
    "        #typecasting into sentences using Sentence model\n",
    "        for i in act_sum:\n",
    "            final.append(Sentence(i,Tokenizer('english')))\n",
    "            \n",
    "        #calculating the rouge scores for the summary obtained\n",
    "        r1.append(rouge_1(summary,final))\n",
    "        r2.append(rouge_2(summary,final))\n",
    "    \n",
    "    #averaging the rouge scores for a sentence count\n",
    "    print('For sentence count:',sc)\n",
    "    print('Average Rouge 1 score:',sum(r1)/len(r1))\n",
    "    print('Average Rouge 2 score:',sum(r2)/len(r2),'\\n\\n')\n",
    "    "
   ]
  },
  {
   "cell_type": "markdown",
   "metadata": {},
   "source": [
    "# Text Rank Summarizer"
   ]
  },
  {
   "cell_type": "code",
   "execution_count": 4,
   "metadata": {},
   "outputs": [
    {
     "name": "stdout",
     "output_type": "stream",
     "text": [
      "For sentence count: 10\n",
      "Average Rouge 1 score: 0.8918947999730512\n",
      "Average Rouge 2 score: 0.8547664373690037 \n",
      "\n",
      "\n",
      "For sentence count: 15\n",
      "Average Rouge 1 score: 0.9690153869942072\n",
      "Average Rouge 2 score: 0.9570604773680071 \n",
      "\n",
      "\n",
      "For sentence count: 20\n",
      "Average Rouge 1 score: 0.9909734472686471\n",
      "Average Rouge 2 score: 0.9871444862737312 \n",
      "\n",
      "\n",
      "For sentence count: 25\n",
      "Average Rouge 1 score: 0.9965085581123175\n",
      "Average Rouge 2 score: 0.9950434965358156 \n",
      "\n",
      "\n"
     ]
    }
   ],
   "source": [
    "#iterating over different number of sentence counts\n",
    "for sc in [10,15,20,25]:\n",
    "    r1=[]\n",
    "    r2=[]\n",
    "    for i in os.listdir(article_path):\n",
    "        #getting the file path\n",
    "        file = article_path+i \n",
    "        #parsing the artile file\n",
    "        parser = PlaintextParser.from_file(file, Tokenizer(\"english\"))\n",
    "        #initialising the summarizer\n",
    "        summarizer = TextRankSummarizer()\n",
    "        #summarizing the article\n",
    "        summary = summarizer(parser.document, sc) \n",
    "        \n",
    "        #acquiring the actual summary\n",
    "        f=open(summary_path+i,'r')\n",
    "        act=f.read()\n",
    "        act_sum=act.split('.')\n",
    "        final=[]\n",
    "        #typecasting into sentences using Sentence model\n",
    "        for i in act_sum:\n",
    "            final.append(Sentence(i,Tokenizer('english')))\n",
    "        \n",
    "        #calculating the rouge scores for the summary obtained\n",
    "        r1.append(rouge_1(summary,final))\n",
    "        r2.append(rouge_2(summary,final))\n",
    "        \n",
    "    #averaging the rouge scores for a sentence count\n",
    "    print('For sentence count:',sc)\n",
    "    print('Average Rouge 1 score:',sum(r1)/len(r1))\n",
    "    print('Average Rouge 2 score:',sum(r2)/len(r2),'\\n\\n')"
   ]
  }
 ],
 "metadata": {
  "kernelspec": {
   "display_name": "Python 3",
   "language": "python",
   "name": "python3"
  },
  "language_info": {
   "codemirror_mode": {
    "name": "ipython",
    "version": 3
   },
   "file_extension": ".py",
   "mimetype": "text/x-python",
   "name": "python",
   "nbconvert_exporter": "python",
   "pygments_lexer": "ipython3",
   "version": "3.7.4"
  }
 },
 "nbformat": 4,
 "nbformat_minor": 2
}
